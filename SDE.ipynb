{
 "cells": [
  {
   "cell_type": "code",
   "execution_count": 48,
   "metadata": {
    "collapsed": true
   },
   "outputs": [],
   "source": [
    "%matplotlib inline\n",
    "import numpy as np\n",
    "import matplotlib.pyplot as plt\n",
    "import random as rand"
   ]
  },
  {
   "cell_type": "code",
   "execution_count": 56,
   "metadata": {
    "collapsed": true
   },
   "outputs": [],
   "source": [
    "# Want to solve SDE of the form dX = a(X,t) dt + b(X,t) dB_t\n",
    "# In this example we will solve a SDE which follows a Geometric Brownian Motion\n",
    "# This has important applications in finance - particularly in the modelling stock prices\n",
    "mu = 1\n",
    "sig = 0.2\n",
    "def a(x,t):\n",
    "    return mu*x\n",
    "def b(x,t):\n",
    "    return sig*x"
   ]
  },
  {
   "cell_type": "code",
   "execution_count": 57,
   "metadata": {
    "collapsed": false
   },
   "outputs": [],
   "source": [
    "# Implement a Box-Muller Transform\n",
    "def normal(m,s2):\n",
    "    u1 = rand.random()\n",
    "    u2 = rand.random()\n",
    "    \n",
    "    z0 = np.sqrt(-2*np.log(u1))*np.cos(2*np.pi*u2)\n",
    "    z1 = np.sqrt(-2*np.log(u1))*np.sin(2*np.pi*u2)\n",
    "\n",
    "    return z0*np.sqrt(s2) + m"
   ]
  },
  {
   "cell_type": "code",
   "execution_count": 58,
   "metadata": {
    "collapsed": false
   },
   "outputs": [],
   "source": [
    "# We use the explicit order 1.0 strong scheme for solution of the SDE\n",
    "def step_forward(x_start,t_start,delta_t):\n",
    "    a1 = x_start + a(x_start,t_start)*delta_t + b(x_start,t_start)*normal(0,delta_t)\n",
    "    y = x_start + a(x_start,t_start)*delta_t + b(x_start,t_start)*np.sqrt(delta_t)\n",
    "    a2 = b(y,t_start) - b(x_start,t_start)\n",
    "    a3 = normal(0,delta_t)**2 - delta_t\n",
    "    return a1 + (1/(2*np.sqrt(delta_t))) * a2 * a3"
   ]
  },
  {
   "cell_type": "code",
   "execution_count": 59,
   "metadata": {
    "collapsed": false
   },
   "outputs": [
    {
     "data": {
      "image/png": "[encoded data removed]",
      "text/plain": [
       "<matplotlib.figure.Figure at 0x1062735f8>"
      ]
     },
     "metadata": {},
     "output_type": "display_data"
    }
   ],
   "source": [
    "rand.seed(0)\n",
    "t_max = 1.0\n",
    "N = 10000\n",
    "delta_t = t_max/N\n",
    "T = np.linspace(0,t_max,N)\n",
    "xv = np.zeros(len(T))\n",
    "xv[0] = 1\n",
    "for i in range(N-1):\n",
    "    xv[i+1] = step_forward(xv[i],T[i],delta_t)\n",
    "plt.plot(T,xv)\n",
    "plt.show()"
   ]
  },
  {
   "cell_type": "code",
   "execution_count": null,
   "metadata": {
    "collapsed": false
   },
   "outputs": [],
   "source": []
  },
  {
   "cell_type": "code",
   "execution_count": null,
   "metadata": {
    "collapsed": true
   },
   "outputs": [],
   "source": []
  }
 ],
 "metadata": {
  "kernelspec": {
   "display_name": "Python 3",
   "language": "python",
   "name": "python3"
  },
  "language_info": {
   "codemirror_mode": {
    "name": "ipython",
    "version": 3
   },
   "file_extension": ".py",
   "mimetype": "text/x-python",
   "name": "python",
   "nbconvert_exporter": "python",
   "pygments_lexer": "ipython3",
   "version": "3.5.1"
  }
 },
 "nbformat": 4,
 "nbformat_minor": 0
}
